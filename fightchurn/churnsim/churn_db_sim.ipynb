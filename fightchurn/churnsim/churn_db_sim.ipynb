{
 "cells": [
  {
   "cell_type": "code",
   "execution_count": null,
   "id": "female-science",
   "metadata": {},
   "outputs": [],
   "source": [
    "import os"
   ]
  },
  {
   "cell_type": "code",
   "execution_count": null,
   "id": "solid-truck",
   "metadata": {},
   "outputs": [],
   "source": [
    "os.environ['CHURN_DB']='churn'\n",
    "os.environ['CHURN_DB_USER']='user'\n",
    "os.environ['CHURN_DB_PASS']='pass'"
   ]
  },
  {
   "cell_type": "code",
   "execution_count": null,
   "id": "buried-space",
   "metadata": {},
   "outputs": [],
   "source": [
    "run churndb.py"
   ]
  },
  {
   "cell_type": "code",
   "execution_count": null,
   "id": "boxed-stake",
   "metadata": {},
   "outputs": [],
   "source": [
    "run churnsim.py"
   ]
  },
  {
   "cell_type": "code",
   "execution_count": null,
   "id": "assigned-review",
   "metadata": {},
   "outputs": [],
   "source": []
  }
 ],
 "metadata": {
  "kernelspec": {
   "display_name": "Python 3",
   "language": "python",
   "name": "python3"
  },
  "language_info": {
   "codemirror_mode": {
    "name": "ipython",
    "version": 3
   },
   "file_extension": ".py",
   "mimetype": "text/x-python",
   "name": "python",
   "nbconvert_exporter": "python",
   "pygments_lexer": "ipython3",
   "version": "3.9.2"
  }
 },
 "nbformat": 4,
 "nbformat_minor": 5
}
